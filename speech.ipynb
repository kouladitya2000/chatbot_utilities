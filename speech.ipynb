{
 "cells": [
  {
   "cell_type": "code",
   "execution_count": 19,
   "metadata": {},
   "outputs": [
    {
     "name": "stdout",
     "output_type": "stream",
     "text": [
      "Audio file downloaded and saved to C:\\Users\\acer\\OneDrive\\Desktop\\downnewww.wav\n"
     ]
    }
   ],
   "source": [
    "from azure.storage.blob import BlobServiceClient\n",
    "import os\n",
    "\n",
    "STORAGEACCOUNTURL = \"https://demodocstoragetranslator.blob.core.windows.net\"\n",
    "STORAGEACCOUNTKEY = \"cr4tK/oThygMWmBm3YvfuSxIwj8aMiMPiF+jz27xwpQTPDJxmi8LZe7UxrqsgXcd8Ggtnl/6KrdF+AStMqVAEQ==\"\n",
    "CONTAINERNAME = \"source\"\n",
    "BLOBNAME = \"newww.wav\"\n",
    "DESTINATION_PATH = os.path.expanduser(\"C:\\\\Users\\\\acer\\\\OneDrive\\\\Desktop\\\\downnewww.wav\")\n",
    "\n",
    "# Create a BlobServiceClient instance\n",
    "blob_service_client_instance = BlobServiceClient(\n",
    "    account_url=STORAGEACCOUNTURL, credential=STORAGEACCOUNTKEY)\n",
    "\n",
    "# Get a BlobClient instance for the specified blob\n",
    "blob_client_instance = blob_service_client_instance.get_blob_client(\n",
    "    CONTAINERNAME, BLOBNAME)\n",
    "\n",
    "# Download the blob to the local file\n",
    "with open(DESTINATION_PATH, \"wb\") as local_file:\n",
    "    blob_data = blob_client_instance.download_blob()\n",
    "    blob_data.readinto(local_file)\n",
    "\n",
    "print(f\"Audio file downloaded and saved to {DESTINATION_PATH}\")\n"
   ]
  },
  {
   "cell_type": "code",
   "execution_count": 20,
   "metadata": {},
   "outputs": [],
   "source": [
    "import speech_recognition as sr"
   ]
  },
  {
   "cell_type": "code",
   "execution_count": 21,
   "metadata": {},
   "outputs": [],
   "source": [
    "# initialize the recognizer\n",
    "r = sr.Recognizer()"
   ]
  },
  {
   "cell_type": "code",
   "execution_count": 23,
   "metadata": {},
   "outputs": [
    {
     "name": "stdout",
     "output_type": "stream",
     "text": [
      "hello this is 6 minute English from BBC learning English I am now when I was a boy I want it to be a farmer and when I grow up how are you best did you have any childhood dreams I want to be an astronaut and fly to the\n"
     ]
    }
   ],
   "source": [
    "# open the file\n",
    "filename = \"C:\\\\Users\\\\acer\\\\OneDrive\\\\Desktop\\\\downnewww.wav\"\n",
    "with sr.AudioFile(filename) as source:\n",
    "    # listen for the data (load audio to memory)\n",
    "    audio_data = r.record(source)\n",
    "    # recognize (convert from speech to text)\n",
    "    text = r.recognize_google(audio_data)\n",
    "    print(text)"
   ]
  },
  {
   "cell_type": "code",
   "execution_count": 25,
   "metadata": {},
   "outputs": [
    {
     "name": "stdout",
     "output_type": "stream",
     "text": [
      "Translated text has been saved to 'C:\\Users\\acer\\OneDrive\\Desktop\\audioconverted.txt' on the desktop.\n"
     ]
    }
   ],
   "source": [
    "output_file_path = \"C:\\\\Users\\\\acer\\\\OneDrive\\\\Desktop\\\\audioconverted.txt\"\n",
    "\n",
    "# Save the translated text to the specified file path\n",
    "with open(output_file_path, \"w\", encoding=\"utf-8\") as output_file:\n",
    "    output_file.write(text)\n",
    "\n",
    "print(f\"Translated text has been saved to '{output_file_path}' on the desktop.\")\n",
    "\n"
   ]
  },
  {
   "cell_type": "code",
   "execution_count": 26,
   "metadata": {},
   "outputs": [
    {
     "name": "stdout",
     "output_type": "stream",
     "text": [
      "File 'C:\\Users\\acer\\OneDrive\\Desktop\\audioconverted.txt' uploaded to 'target/audioconverted.txt'\n"
     ]
    }
   ],
   "source": [
    "from azure.storage.blob import BlobServiceClient, BlobClient, ContainerClient\n",
    "\n",
    "STORAGEACCOUNTURL = \"https://demodocstoragetranslator.blob.core.windows.net\"\n",
    "STORAGEACCOUNTKEY = \"cr4tK/oThygMWmBm3YvfuSxIwj8aMiMPiF+jz27xwpQTPDJxmi8LZe7UxrqsgXcd8Ggtnl/6KrdF+AStMqVAEQ==\"\n",
    "CONTAINERNAME = \"target\"\n",
    "BLOBNAME = \"audioconverted.txt\"  # Replace with the desired blob name\n",
    "LOCAL_FILE_PATH = \"C:\\\\Users\\\\acer\\\\OneDrive\\\\Desktop\\\\audioconverted.txt\" # Replace with the path to your local file\n",
    "\n",
    "# Create a BlobServiceClient instance\n",
    "blob_service_client_instance = BlobServiceClient(\n",
    "    account_url=STORAGEACCOUNTURL, credential=STORAGEACCOUNTKEY)\n",
    "\n",
    "# Get a BlobClient instance for the container and blob\n",
    "blob_client_instance = blob_service_client_instance.get_blob_client(\n",
    "    CONTAINERNAME, BLOBNAME)\n",
    "\n",
    "# Upload the file to the blob\n",
    "with open(LOCAL_FILE_PATH, \"rb\") as data:\n",
    "    blob_client_instance.upload_blob(data, overwrite=True)\n",
    "\n",
    "print(f\"File '{LOCAL_FILE_PATH}' uploaded to '{CONTAINERNAME}/{BLOBNAME}'\")\n"
   ]
  }
 ],
 "metadata": {
  "kernelspec": {
   "display_name": "Python 3",
   "language": "python",
   "name": "python3"
  },
  "language_info": {
   "codemirror_mode": {
    "name": "ipython",
    "version": 3
   },
   "file_extension": ".py",
   "mimetype": "text/x-python",
   "name": "python",
   "nbconvert_exporter": "python",
   "pygments_lexer": "ipython3",
   "version": "3.11.4"
  },
  "orig_nbformat": 4
 },
 "nbformat": 4,
 "nbformat_minor": 2
}
