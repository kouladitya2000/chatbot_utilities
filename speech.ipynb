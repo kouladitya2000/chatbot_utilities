{
 "cells": [
  {
   "cell_type": "code",
   "execution_count": 8,
   "metadata": {},
   "outputs": [],
   "source": [
    "from azure.storage.blob import BlobServiceClient\n",
    "import os\n",
    "STORAGEACCOUNTURL = \"https://demodocstoragetranslator.blob.core.windows.net\"\n",
    "STORAGEACCOUNTKEY = \"cr4tK/oThygMWmBm3YvfuSxIwj8aMiMPiF+jz27xwpQTPDJxmi8LZe7UxrqsgXcd8Ggtnl/6KrdF+AStMqVAEQ==\"\n",
    "CONTAINERNAME = \"source\"\n",
    "BLOBNAME = \"newww.wav\"\n",
    "path = \"H:\\\\openai\\\\pycode\\\\\"\n",
    "output_filename = \"audioconverted.txt\""
   ]
  },
  {
   "cell_type": "code",
   "execution_count": 2,
   "metadata": {},
   "outputs": [],
   "source": [
    "import helper"
   ]
  },
  {
   "cell_type": "code",
   "execution_count": 3,
   "metadata": {},
   "outputs": [
    {
     "data": {
      "text/plain": [
       "'Audio file downloaded and saved to H:\\\\openai\\\\pycode\\\\newww.wav'"
      ]
     },
     "execution_count": 3,
     "metadata": {},
     "output_type": "execute_result"
    }
   ],
   "source": [
    "\n",
    "helper.download_blob(STORAGEACCOUNTURL,STORAGEACCOUNTKEY,CONTAINERNAME,BLOBNAME,path)"
   ]
  },
  {
   "cell_type": "code",
   "execution_count": 4,
   "metadata": {},
   "outputs": [],
   "source": [
    "import speech_recognition as sr"
   ]
  },
  {
   "cell_type": "code",
   "execution_count": 5,
   "metadata": {},
   "outputs": [],
   "source": [
    "# initialize the recognizer\n",
    "r = sr.Recognizer()"
   ]
  },
  {
   "cell_type": "code",
   "execution_count": 7,
   "metadata": {},
   "outputs": [
    {
     "name": "stdout",
     "output_type": "stream",
     "text": [
      "hello this is 6 minute English from BBC learning English I am now when I was a boy I want it to be a farmer and when I grow up how are you best did you have any childhood dreams I want to be an astronaut and fly to the\n"
     ]
    }
   ],
   "source": [
    "# open the file\n",
    "filename = path + BLOBNAME\n",
    "with sr.AudioFile(filename) as source:\n",
    "    # listen for the data (load audio to memory)\n",
    "    audio_data = r.record(source)\n",
    "    # recognize (convert from speech to text)\n",
    "    text = r.recognize_google(audio_data)\n",
    "    print(text)"
   ]
  },
  {
   "cell_type": "code",
   "execution_count": 9,
   "metadata": {},
   "outputs": [
    {
     "name": "stdout",
     "output_type": "stream",
     "text": [
      "Translated text has been saved to 'H:\\openai\\pycode\\audioconverted.txt' on the desktop.\n"
     ]
    }
   ],
   "source": [
    "output_file_path = path + output_filename\n",
    "\n",
    "# Save the translated text to the specified file path\n",
    "with open(output_file_path, \"w\", encoding=\"utf-8\") as output_file:\n",
    "    output_file.write(text)\n",
    "\n",
    "print(f\"Translated text has been saved to '{output_file_path}' on the desktop.\")\n",
    "\n"
   ]
  },
  {
   "cell_type": "code",
   "execution_count": 10,
   "metadata": {},
   "outputs": [
    {
     "data": {
      "text/plain": [
       "\"File 'H:\\\\openai\\\\pycode\\\\tech.pdf' uploaded to 'source/tech.pdf'\""
      ]
     },
     "execution_count": 10,
     "metadata": {},
     "output_type": "execute_result"
    }
   ],
   "source": [
    "\n",
    "helper.upload_blob(STORAGEACCOUNTURL,STORAGEACCOUNTKEY,CONTAINERNAME,\"tech.pdf\",path)"
   ]
  },
  {
   "cell_type": "code",
   "execution_count": null,
   "metadata": {},
   "outputs": [],
   "source": []
  }
 ],
 "metadata": {
  "kernelspec": {
   "display_name": "Python 3",
   "language": "python",
   "name": "python3"
  },
  "language_info": {
   "codemirror_mode": {
    "name": "ipython",
    "version": 3
   },
   "file_extension": ".py",
   "mimetype": "text/x-python",
   "name": "python",
   "nbconvert_exporter": "python",
   "pygments_lexer": "ipython3",
   "version": "3.9.13"
  },
  "orig_nbformat": 4
 },
 "nbformat": 4,
 "nbformat_minor": 2
}
