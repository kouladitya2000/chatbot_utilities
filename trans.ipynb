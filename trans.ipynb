{
 "cells": [
  {
   "cell_type": "code",
   "execution_count": 16,
   "metadata": {},
   "outputs": [],
   "source": [
    "from azure.storage.blob import BlobServiceClient\n",
    "\n",
    "STORAGEACCOUNTURL = \"https://demodocstoragetranslator.blob.core.windows.net\"\n",
    "STORAGEACCOUNTKEY = \"cr4tK/oThygMWmBm3YvfuSxIwj8aMiMPiF+jz27xwpQTPDJxmi8LZe7UxrqsgXcd8Ggtnl/6KrdF+AStMqVAEQ==\"\n",
    "CONTAINERNAME = \"source\"\n",
    "BLOBNAME = \"test.txt\"\n",
    "file_path = \"H:\\\\openai\\\\files-chatbot\\\\\"\n",
    "output_filename = \"new_translated.txt\""
   ]
  },
  {
   "cell_type": "code",
   "execution_count": 17,
   "metadata": {},
   "outputs": [],
   "source": [
    "import helper"
   ]
  },
  {
   "cell_type": "code",
   "execution_count": 18,
   "metadata": {},
   "outputs": [
    {
     "data": {
      "text/plain": [
       "'Audio file downloaded and saved to H:\\\\openai\\\\files-chatbot\\\\test.txt'"
      ]
     },
     "execution_count": 18,
     "metadata": {},
     "output_type": "execute_result"
    }
   ],
   "source": [
    "helper.download_blob(STORAGEACCOUNTURL,STORAGEACCOUNTKEY,CONTAINERNAME,BLOBNAME,file_path)"
   ]
  },
  {
   "cell_type": "code",
   "execution_count": 20,
   "metadata": {},
   "outputs": [],
   "source": [
    "pathfull = file_path + BLOBNAME\n",
    "file = open(pathfull,'r',encoding=\"utf8\")\n",
    "text_content = file.read()"
   ]
  },
  {
   "cell_type": "code",
   "execution_count": 21,
   "metadata": {},
   "outputs": [
    {
     "data": {
      "text/plain": [
       "'क्रिकेट राष्ट्रीय और अंतरराष्ट्रीय स्तर पर कई देशों द्वारा पर खेला जाने वाला एक पेशेवर स्तर का आउटडोर खेल है। इस बाहर खेले जाने वाले खेल में 11 खिलाड़ियों की दो टीमें होती है।\\n क्रिकेट तब तक खेला जाता है जब तक 50 ओवर पूरे न हो जाए। इससे जुड़े नियम-कानून का संचालन तथा नियमन अंतरराष्ट्रीय क्रिकेट परिषद और मेर्लबोर्न क्रिकेट क्लब द्वारा किया जाता है। \\nयह खेल टेस्ट मैचों और एक दिवसीय तथा टी 20 अंतरराष्ट्रीय मैचों के रुप में खेला जाता है।\\n सर्वप्रथम यह खेल 16वीं शताब्दी के दक्षिणी इंग्लैंड में खेला जाता था। हालाँकि 18वीं शताब्दी के दौरान इसका विकास इंग्लैंड के राष्ट्रीय खेल के रुप में हुआ।\\n\\nक्रिकेट का इतिहास\\nब्रिटिश साम्राज्य के विस्तार के दौरान ये खेल बाहर के देशों में खेला जाने लगा और 19वीं शताब्दी में पहला अंतरराष्ट्रीय मैच आईसीसी द्वारा 10-10 सदस्यों के दो टीमों में कराया गया। क्रिकेट एक काफी प्रसिद्ध खेल है जो इंग्लैंड, भारत, ऑस्ट्रेलिया, दक्षिण-अफ्रिका आदि जैसे दुनिया के कई सारे देशों में खेला जाता है।\\n\\nभारत में छोटे बच्चे इस खेल के दिवाने है और वह इसे छोटी सी खुली जगहों में खेलते है, खासतौर से सड़क और पार्क में। अगर इसे रोज खेला और अभ्यास किया जाये तो ये बहुत ही आसान खेल है। क्रिकेट खिलाड़ियों को अपने खेल में सुधार लाने के लिये रोज अभ्यास की जरूरत पड़ती है जिससे वो छोटी-छोटी गलतियों को दूर कर सकें और पूरे प्रवाह के साथ इसे खेल सकें।\\n\\nनिष्कर्ष\\nक्रिकेट ही नहीं बल्कि किसी भी प्रकार के खेल से स्वास्थ्य और उत्साह तो बढ़ता ही है, साथ ही स्वस्थ प्रतियोगिता की भावना का भी विकास होता है। क्रिकेट के खेल से इसके साथ-साथ आपसी एकता तथा भाईचारा का विकास भी होता है। विश्व कप क्रिकेट टूर्नामेंट के समय समूचा विश्व जैसे एक परिवार ही बन जाता है और यह क्रिकेट के खेल की एक बड़ी उपलब्धि है।'"
      ]
     },
     "execution_count": 21,
     "metadata": {},
     "output_type": "execute_result"
    }
   ],
   "source": [
    "text_content"
   ]
  },
  {
   "cell_type": "code",
   "execution_count": 22,
   "metadata": {},
   "outputs": [
    {
     "name": "stdout",
     "output_type": "stream",
     "text": [
      "Cricket is a professional level outdoor sport played by many countries at the national and international level. There are two teams of 11 players in this outdoor game.\n",
      " Cricket is played until 50 overs are completed. The rules and regulations are governed and regulated by the International Cricket Council and the Merbourne Cricket Club. \n",
      "This game is played in the form of Test matches and One Day and T20 International matches.\n",
      " The game was first played in southern England in the 16th century. However, during the 18th century it developed as the national sport of England.\n",
      "\n",
      "History of Cricket\n",
      "During the expansion of the British Empire, the game was played in foreign countries and in the 19th century the first international match was organized by the ICC in two teams of 10 members each. Cricket is a very famous game which is played in many countries of the world like England, India, Australia, South Africa etc.\n",
      "\n",
      "Young children in India are crazy about this game and they play it in small open spaces, especially in the street and park. If it is played and practiced every day, then it is a very easy game. Cricket players need daily practice to improve their game so that they can overcome small mistakes and play it with full flow.\n",
      "\n",
      "conclusion\n",
      "Not only cricket, but any kind of sport not only increases health and enthusiasm, but also develops a sense of healthy competition. The game of cricket also develops mutual unity and brotherhood. At the time of the World Cup cricket tournament, the whole world becomes like one family and this is a big achievement of the game of cricket.\n"
     ]
    }
   ],
   "source": [
    "key = \"a9908eb0c95c4fc3a52deb60cf639524\"\n",
    "endpoint = \"https://api.cognitive.microsofttranslator.com/\"\n",
    "location = \"eastus\"\n",
    "path = '/translate'\n",
    "translated_text = helper.tanslator(key,endpoint,location,path,text_content)\n",
    "# Print the translated text\n",
    "print(translated_text)"
   ]
  },
  {
   "cell_type": "code",
   "execution_count": 23,
   "metadata": {},
   "outputs": [
    {
     "name": "stdout",
     "output_type": "stream",
     "text": [
      "Translated text has been saved to 'H:\\openai\\files-chatbot\\new_translated.txt' on the desktop.\n"
     ]
    }
   ],
   "source": [
    "# Writing everything to the txt file. Which we converted.\n",
    "output_file_path = file_path + output_filename\n",
    "\n",
    "# Save the translated text to the specified file path\n",
    "with open(output_file_path, \"w\", encoding=\"utf-8\") as output_file:\n",
    "    output_file.write(translated_text)\n",
    "\n",
    "print(f\"Translated text has been saved to '{output_file_path}' on the desktop.\")"
   ]
  },
  {
   "cell_type": "code",
   "execution_count": 24,
   "metadata": {},
   "outputs": [
    {
     "data": {
      "text/plain": [
       "\"File 'H:\\\\openai\\\\files-chatbot\\\\new_translated.txt' uploaded to 'source/new_translated.txt'\""
      ]
     },
     "execution_count": 24,
     "metadata": {},
     "output_type": "execute_result"
    }
   ],
   "source": [
    "helper.upload_blob(STORAGEACCOUNTURL,STORAGEACCOUNTKEY,CONTAINERNAME,output_filename,file_path)"
   ]
  }
 ],
 "metadata": {
  "kernelspec": {
   "display_name": "Python 3",
   "language": "python",
   "name": "python3"
  },
  "language_info": {
   "codemirror_mode": {
    "name": "ipython",
    "version": 3
   },
   "file_extension": ".py",
   "mimetype": "text/x-python",
   "name": "python",
   "nbconvert_exporter": "python",
   "pygments_lexer": "ipython3",
   "version": "3.9.13"
  },
  "orig_nbformat": 4
 },
 "nbformat": 4,
 "nbformat_minor": 2
}
