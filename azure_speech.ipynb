{
 "cells": [
  {
   "cell_type": "code",
   "execution_count": 7,
   "metadata": {},
   "outputs": [],
   "source": [
    "from azure.storage.blob import BlobServiceClient\n",
    "import os\n",
    "STORAGEACCOUNTURL = \"https://demodocstoragetranslator.blob.core.windows.net\"\n",
    "STORAGEACCOUNTKEY = \"cr4tK/oThygMWmBm3YvfuSxIwj8aMiMPiF+jz27xwpQTPDJxmi8LZe7UxrqsgXcd8Ggtnl/6KrdF+AStMqVAEQ==\"\n",
    "CONTAINERNAME = \"source\"\n",
    "BLOBNAME = \"newww.wav\"\n",
    "path = \"H:\\\\openai\\\\pycode\\\\\"\n",
    "output_filename = \"azure_audioconverted.txt\""
   ]
  },
  {
   "cell_type": "code",
   "execution_count": 8,
   "metadata": {},
   "outputs": [],
   "source": [
    "import helper"
   ]
  },
  {
   "cell_type": "code",
   "execution_count": 9,
   "metadata": {},
   "outputs": [
    {
     "data": {
      "text/plain": [
       "'Audio file downloaded and saved to H:\\\\openai\\\\pycode\\\\newww.wav'"
      ]
     },
     "execution_count": 9,
     "metadata": {},
     "output_type": "execute_result"
    }
   ],
   "source": [
    "helper.download_blob(STORAGEACCOUNTURL,STORAGEACCOUNTKEY,CONTAINERNAME,BLOBNAME,path)"
   ]
  },
  {
   "cell_type": "code",
   "execution_count": 10,
   "metadata": {},
   "outputs": [
    {
     "name": "stdout",
     "output_type": "stream",
     "text": [
      "Converting the Speech.\n"
     ]
    },
    {
     "data": {
      "text/plain": [
       "\"Hello, this is 6 Minute English from BBC Learning English. I'm Neil and I'm Beth. When I was a boy, I wanted to be a fireman when I grew up. How about you, Beth? Did you have any childhood dreams? I wanted to be an astronaut and fly to the moon.\""
      ]
     },
     "execution_count": 10,
     "metadata": {},
     "output_type": "execute_result"
    }
   ],
   "source": [
    "filename = path + BLOBNAME\n",
    "text = helper.speech_to_text(filename,'374ee2192d064e3ebc813847f103e57f','westeurope')\n",
    "text"
   ]
  },
  {
   "cell_type": "code",
   "execution_count": 11,
   "metadata": {},
   "outputs": [
    {
     "name": "stdout",
     "output_type": "stream",
     "text": [
      "Translated text has been saved to 'H:\\openai\\pycode\\azure_audioconverted.txt' on the desktop.\n"
     ]
    }
   ],
   "source": [
    "output_file_path = path + output_filename\n",
    "\n",
    "# Save the translated text to the specified file path\n",
    "with open(output_file_path, \"w\", encoding=\"utf-8\") as output_file:\n",
    "    output_file.write(text)\n",
    "\n",
    "print(f\"Translated text has been saved to '{output_file_path}' on the desktop.\")"
   ]
  },
  {
   "cell_type": "code",
   "execution_count": 13,
   "metadata": {},
   "outputs": [
    {
     "data": {
      "text/plain": [
       "\"File 'H:\\\\openai\\\\pycode\\\\azure_audioconverted.txt' uploaded to 'source/azure_audioconverted.txt'\""
      ]
     },
     "execution_count": 13,
     "metadata": {},
     "output_type": "execute_result"
    }
   ],
   "source": [
    "helper.upload_blob(STORAGEACCOUNTURL,STORAGEACCOUNTKEY,CONTAINERNAME,output_filename,path)"
   ]
  },
  {
   "cell_type": "code",
   "execution_count": null,
   "metadata": {},
   "outputs": [],
   "source": []
  }
 ],
 "metadata": {
  "kernelspec": {
   "display_name": "Python 3",
   "language": "python",
   "name": "python3"
  },
  "language_info": {
   "codemirror_mode": {
    "name": "ipython",
    "version": 3
   },
   "file_extension": ".py",
   "mimetype": "text/x-python",
   "name": "python",
   "nbconvert_exporter": "python",
   "pygments_lexer": "ipython3",
   "version": "3.9.13"
  },
  "orig_nbformat": 4
 },
 "nbformat": 4,
 "nbformat_minor": 2
}
